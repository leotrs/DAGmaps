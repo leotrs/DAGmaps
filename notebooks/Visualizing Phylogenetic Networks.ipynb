{
 "cells": [
  {
   "cell_type": "markdown",
   "metadata": {},
   "source": [
    "<img src = \"DAGMap_header.png\" width = 1000>"
   ]
  },
  {
   "cell_type": "markdown",
   "metadata": {},
   "source": [
    "# Visualizing Phylogenetic Networks\n",
    "An implementation of algorithm described in in _Tollis, I. G., & Kakoulis, K. G. (2016)_\n",
    "\n",
    "Authors: *Syed Haque, Brennan Klein & Leonardo Torres*"
   ]
  },
  {
   "cell_type": "markdown",
   "metadata": {},
   "source": [
    "## Background: Trees\n",
    "Tree metaphors have been prevalent throughout human history. Visually, they offer an intuitive means of presenting hierarchical structures in networks of information, relationships, or histories. Under this metaphor, each _leaf_ of a tree can represent people, ideas, concepts, entities, all connected by a _branch_ to another leaf.\n",
    "\n",
    "It was Charles Darwin who began to push us past the tree *metaphor* of life and into an actual, theoretical realization of a tree-like structure as a fundamental property of organic matter. In Darwin's conception of the \"Tree of Life\", each leaf is a species, and there is a branch between two leaves if one of the leaves is an immediate genetic predecesor of the other. A this point, this Tree of Life metaphor was not only a vital construct for communicating his ideas about the evolution of species via natural selection, but it eventually served as a way to *generate insights* about the evolutionary process. This was useful for decades, but again, we found ourselves falling short of explanations using our current tools to visualize these networks of speciaiton. \n",
    "<img src=\"https://s-media-cache-ak0.pinimg.com/736x/f0/75/80/f07580944b8d04995662d301c4455837.jpg\" width=350>\n",
    "<center>Figure 1: Illustration from the 16th century [*anonymous*].</center> \n",
    "<center>The fall of man represented using branches of a tree.</center>"
   ]
  },
  {
   "cell_type": "markdown",
   "metadata": {},
   "source": [
    "For example, Doolittle (1999) describes the struggle that evolutionary biologists faced due to an *overreliance* on the tree metaphors listed above. \n",
    "\n",
    "Tree diagrams traditionally have \"parent\" leafs, which separate into \"children\" leafs, which then become the parents of the next generation, and so on. In evolutionary theory, this had traditionally made sense with a strictly Darwinian understanding of evolution, but with more knowledge of horizontal transfer of genes across kingdoms and phylums, the traditional visual metaphor was not only insufficient, it was hindering progress for pushing evolutionary theory further.\n",
    "\n",
    "<img src=\"Tree-of-life-Origin_of_Species-1859.png\" width=400>\n",
    "<center>Figure 2: Recreation of Darwin's Tree of Life [*Hattom Garden*].</center> \n",
    "<center>The image above depicts the problem that biologists faced. Evolutionary phylogentic</center>\n",
    "<center> trees sometimes have interacting branches, whereas the above network lacks them.</center>\n",
    "\n",
    "\n",
    "Phylogeneticists, Doolittle claims, could not find the Tree of Life as they had imagined it because they lacked an updated, compelling visual metaphor with which to describe the evolutionary processes we now know exist. Horizontal gene transfer, hybridization, and genetic recombination are all processes on networks, so the field needed a better *network* visualization in order to communicate their insight"
   ]
  },
  {
   "cell_type": "markdown",
   "metadata": {},
   "source": [
    "## Background: Phylogenetic Networks\n",
    "<img src = \"https://pbs.twimg.com/profile_images/425414883258023936/lHCSqrAp.jpeg\" width = 500>\n",
    "<center>Figure 3: Sensationalist Headlinism [*New Scientist, 2009*].</center> \n",
    "\n",
    "\n",
    "Phylogenetic Networks are usually determined by inferring a network structure from co-occurences of genes in a given species or by simulations of evolutionary scenarios using computer models of speciation. The latter is quite useful for testing hypotheses about the presence or absence of horizontal gene transfer, recombination and mixability of genes, as well as the effect of varying fitnesses of different alleles in a population leading to a new species.\n",
    "\n",
    "<img src=\"Reticulation Network.png\" width = 500>\n",
    "<center>Figure 4: A reticulated tree diagram [*Doolittle, 2009*]</center> \n",
    "<center>Reticulated Trees are now thought to have more explanatory power for describing</center> \n",
    "<center>nature's actual mechanisms for speciation.</center>\n"
   ]
  },
  {
   "cell_type": "markdown",
   "metadata": {},
   "source": [
    "The above example clearly shows how quickly tree networks can devolve into visualizations that convey little useful information due to the high branch-overlap between the leafs of the tree. Visually, there must be a better way to approach these objects."
   ]
  },
  {
   "cell_type": "code",
   "execution_count": null,
   "metadata": {
    "collapsed": true
   },
   "outputs": [],
   "source": []
  },
  {
   "cell_type": "code",
   "execution_count": null,
   "metadata": {
    "collapsed": true
   },
   "outputs": [],
   "source": []
  },
  {
   "cell_type": "code",
   "execution_count": null,
   "metadata": {
    "collapsed": true
   },
   "outputs": [],
   "source": []
  },
  {
   "cell_type": "markdown",
   "metadata": {},
   "source": [
    "## Background: Directed Acyclic Graphs (DAGs)"
   ]
  },
  {
   "cell_type": "markdown",
   "metadata": {},
   "source": []
  },
  {
   "cell_type": "markdown",
   "metadata": {},
   "source": [
    "## Background: Galled Networks"
   ]
  },
  {
   "cell_type": "markdown",
   "metadata": {},
   "source": [
    "<img src = \"fig1_gallstructure.png\" width = 300>"
   ]
  },
  {
   "cell_type": "code",
   "execution_count": null,
   "metadata": {
    "collapsed": true
   },
   "outputs": [],
   "source": []
  },
  {
   "cell_type": "code",
   "execution_count": null,
   "metadata": {
    "collapsed": true
   },
   "outputs": [],
   "source": []
  },
  {
   "cell_type": "code",
   "execution_count": null,
   "metadata": {
    "collapsed": true
   },
   "outputs": [],
   "source": []
  },
  {
   "cell_type": "code",
   "execution_count": null,
   "metadata": {
    "collapsed": true
   },
   "outputs": [],
   "source": []
  },
  {
   "cell_type": "code",
   "execution_count": null,
   "metadata": {
    "collapsed": true
   },
   "outputs": [],
   "source": []
  },
  {
   "cell_type": "code",
   "execution_count": null,
   "metadata": {
    "collapsed": true
   },
   "outputs": [],
   "source": []
  },
  {
   "cell_type": "code",
   "execution_count": null,
   "metadata": {
    "collapsed": true
   },
   "outputs": [],
   "source": []
  },
  {
   "cell_type": "code",
   "execution_count": null,
   "metadata": {
    "collapsed": true
   },
   "outputs": [],
   "source": []
  },
  {
   "cell_type": "code",
   "execution_count": null,
   "metadata": {
    "collapsed": true
   },
   "outputs": [],
   "source": []
  },
  {
   "cell_type": "code",
   "execution_count": null,
   "metadata": {
    "collapsed": true
   },
   "outputs": [],
   "source": []
  },
  {
   "cell_type": "code",
   "execution_count": null,
   "metadata": {
    "collapsed": true
   },
   "outputs": [],
   "source": []
  },
  {
   "cell_type": "markdown",
   "metadata": {},
   "source": [
    "### References:\n",
    "* Balzer, M., and O. Deussen. \"Voronoi Treemaps.\" *IEEE Symposium on Information Visualization*, 2005. INFOVIS 2005.\n",
    "\n",
    "* Bruls, Mark, Kees Huizing, and Jarke J. Van Wijk. \"Squarified Treemaps.\" *Eurographics Data Visualization* 2000 (2000): 33-42.\n",
    "\n",
    "* Doolittle W. F.. Phylogenetic classification and the universal tree. *Science*, 284 (5423): 2124–2129, 1999.\n",
    "\n",
    "* Gusfield, D., Eddhu, S., and Langley, C. H.. Efficient reconstruction of phylogenetic networks with constrained recombination. *Computational Systems Bioinformatics Conference* (Proc. CSB 2003), pages 363–374, 2003.\n",
    "\n",
    "* Huson, Daniel H., and David Bryant. \"Application of phylogenetic networks in evolutionary studies.\" Molecular biology and evolution 23.2 (2006): 254-267.\n",
    "\n",
    "* Huson, Daniel H., and Celine Scornavacca. \"A survey of combinatorial methods for phylogenetic networks.\" *Genome biology and evolution* 3 (2011): 23-35.\n",
    "\n",
    "* Huson, D. H., and Klöpper T. H.. Beyond galled trees - decomposition and computation of galled networks. In T. Speed and H. Huang, editors, *11th Annual International Conference on Research in Computational Molecular Biology* (Proc.  RECOMB 2007), pages 211–225, Springer-Verlag, 2007.\n",
    "\n",
    "* Huson, D. H., Rupp, R., Berry, V., Gambette, P., and Paul, C.. Computing galled networks from real data. *Bioinformatics*, 25(12):i85–i93, 2009.\n",
    "\n",
    "* Johnson B., and Shneiderman, B.. Tree-Maps: A Space-filling Approach to the Visualization of Hierarchical Information Structures. *2nd Conference on Visualization* (Proc. VIS 1991), pages 284–291, IEEE Computer Society Press, 1991.\n",
    "\n",
    "* Lima, M. (2014). The book of trees: visualizing branches of knowledge. S. E. Stemen (Ed.). *Princeton Architectural Press*.\n",
    "\n",
    "* Maddison, Wayne P. \"Gene trees in species trees.\" *Systematic biology* 46.3 (1997): 523-536.\n",
    "\n",
    "* Makarenkov, Vladimir. \"T-REX: reconstructing and visualizing phylogenetic trees and reticulation networks.\" *Bioinformatics* 17.7 (2001): 664-668.\n",
    "\n",
    "* Tsiaras, V., Triantafilou, S., and Tollis, I. G.. Dagmaps: Space filling visualization of directed acyclic graphs. *Graph Algorithms and Applications*, 13(3):319–347, 2009.\n",
    "\n",
    "* Wang, L., Zhang K., and Zhang, L.. Perfect phylogenetic networks with recombination.  *Journal of Computational Biology*, 8(1):69–78, 2001.\n",
    "\n",
    "* Wickett, Norman J., et al. \"Phylotranscriptomic analysis of the origin and early diversification of land plants.\" *Proceedings of the National Academy of Sciences* 111.45 (2014): E4859-E4868."
   ]
  },
  {
   "cell_type": "code",
   "execution_count": null,
   "metadata": {
    "collapsed": true
   },
   "outputs": [],
   "source": []
  }
 ],
 "metadata": {
  "kernelspec": {
   "display_name": "Python 2",
   "language": "python",
   "name": "python2"
  },
  "language_info": {
   "codemirror_mode": {
    "name": "ipython",
    "version": 2
   },
   "file_extension": ".py",
   "mimetype": "text/x-python",
   "name": "python",
   "nbconvert_exporter": "python",
   "pygments_lexer": "ipython2",
   "version": "2.7.11"
  }
 },
 "nbformat": 4,
 "nbformat_minor": 0
}
