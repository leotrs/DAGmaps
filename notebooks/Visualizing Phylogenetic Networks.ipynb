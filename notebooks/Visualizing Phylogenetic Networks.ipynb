{
 "cells": [
  {
   "cell_type": "markdown",
   "metadata": {},
   "source": [
    "<img src = \"DAGMap_header.png\" width = 1000>"
   ]
  },
  {
   "cell_type": "markdown",
   "metadata": {},
   "source": [
    "# Visualizing Phylogenetic Networks\n",
    "An implementation of algorithm described in in _Tollis, I. G., & Kakoulis, K. G. (2016)_\n",
    "\n",
    "Authors: *Syed Haque, Brennan Klein & Leonardo Torres*"
   ]
  },
  {
   "cell_type": "markdown",
   "metadata": {},
   "source": [
    "## Background: Trees\n",
    "Tree metaphors have been prevalent throughout human history. Visually, they offer an intuitive means of presenting hierarchical structures in networks of information, relationships, or histories. Under this metaphor, each _leaf_ of a tree can represent people, ideas, concepts, entities, all connected by a _branch_ to another leaf.\n",
    "\n",
    "It was Charles Darwin who began to push us past the tree *metaphor* of life and into an actual, theoretical realization of a tree-like structure as a fundamental property of organic matter. In Darwin's conception of the \"Tree of Life\", each leaf is a species, and there is a branch between two leaves if one of the leaves is an immediate genetic predecesor of the other. A this point, this Tree of Life metaphor was not only a vital construct for communicating his ideas about the evolution of species via natural selection, but it eventually served as a way to *generate insights* about the evolutionary process. This was useful for decades, but again, we found ourselves falling short of explanations using our current tools to visualize these networks of speciaiton. \n",
    "<img src=\"https://s-media-cache-ak0.pinimg.com/736x/f0/75/80/f07580944b8d04995662d301c4455837.jpg\" width=350>\n",
    "<center>Figure 1: Illustration from the 16th century [*anonymous*].</center> \n",
    "<center>The fall of man represented using branches of a tree.</center>"
   ]
  },
  {
   "cell_type": "markdown",
   "metadata": {},
   "source": [
    "For example, Doolittle (1999) describes the struggle that evolutionary biologists faced due to an *overreliance* on the tree metaphors listed above. \n",
    "\n",
    "Tree diagrams traditionally have \"parent\" leafs, which separate into \"children\" leafs, which then become the parents of the next generation, and so on. In evolutionary theory, this had traditionally made sense with a strictly Darwinian understanding of evolution, but with more knowledge of horizontal transfer of genes across kingdoms and phylums, the traditional visual metaphor was not only insufficient, it was hindering progress for pushing evolutionary theory further.\n",
    "\n",
    "<img src=\"Tree-of-life-Origin_of_Species-1859.png\" width=400>\n",
    "<center>Figure 2: Recreation of Darwin's Tree of Life [*Hattom Garden*].</center> \n",
    "<center>The image above depicts the problem that biologists faced. Evolutionary phylogentic</center>\n",
    "<center> trees sometimes have interacting branches, whereas the above network lacks them.</center>\n",
    "\n",
    "\n",
    "Phylogeneticists, Doolittle claims, could not find the Tree of Life as they had imagined it because they lacked an updated, compelling visual metaphor with which to describe the evolutionary processes we now know exist. Horizontal gene transfer, hybridization, and genetic recombination are all processes on networks, so the field needed a better *network* visualization in order to communicate their insight"
   ]
  },
  {
   "cell_type": "markdown",
   "metadata": {},
   "source": [
    "## Background: Phylogenetic Networks\n",
    "<img src = \"https://pbs.twimg.com/profile_images/425414883258023936/lHCSqrAp.jpeg\" width = 500>\n",
    "<center>Figure 3: Sensationalist Headlinism [*New Scientist, 2009*].</center> \n",
    "\n",
    "\n",
    "Phylogenetic Networks are usually determined by inferring a network structure from co-occurences of genes in a given species or by simulations of evolutionary scenarios using computer models of speciation. The latter is quite useful for testing hypotheses about the presence or absence of horizontal gene transfer, recombination and mixability of genes, as well as the effect of varying fitnesses of different alleles in a population leading to a new species.\n",
    "\n"
   ]
  },
  {
   "cell_type": "markdown",
   "metadata": {},
   "source": [
    "<img src=\"Reticulation Network.png\" width = 500>\n",
    "<center>Figure 4: A reticulated tree diagram [*Doolittle, 2009*]</center> \n",
    "<center>Reticulated Trees are now thought to have more explanatory power for describing</center> \n",
    "<center>nature's actual mechanisms for speciation.</center>\n"
   ]
  },
  {
   "cell_type": "markdown",
   "metadata": {
    "collapsed": true
   },
   "source": [
    "EDITTHIS\n",
    "The main question about phylogenetic networks is how to reconstruct them from available data. This data can be of different kinds: sequences (sometimes binary sequences), distances between those sequences, rooted or unrooted trees, triplets (rooted trees on three leaves), quartets (unrooted trees on four leaves), splits (bipartitions of the set of leaves), clusters (subset of leaves which should appear together in the network), multilabeled trees (in the context of duplications), or even networks (to get a consensus network from the input).\n",
    "\n",
    "This question gave rise to some other ones: how to visualize phylogenetic networks (which is linked with graph drawing, except in phylogeny the lengths of the branches may be constrained), or how to compare them in the context of evaluation of the reconstruction methods. These problematics give rise to many theoretical problems, some of which are polynomial, but many of which are NP-complete. Fixed-parameter tractable, approximation algorithms, or heuristics have thus been developed to solve them.\n",
    "\n",
    "Depending on the problem adressed, and its complexity, the network used in the analysis may be an explicit phylogenetic network if it describes biological events, or an abstract phylogenetic network if its edges may not be interpreted biologically. A popular example of abstract network in the literature is the split network which can be used as a visualization of a set of incompatible phylogenetic trees, therefore giving some understanding on the conflicts present in the data."
   ]
  },
  {
   "cell_type": "markdown",
   "metadata": {},
   "source": [
    "#### Problem: \n",
    "The above example clearly shows how quickly tree networks can devolve into visualizations that convey little useful information due to the high branch-overlap between the leafs of the tree. Visually, there must be a better way to approach these objects."
   ]
  },
  {
   "cell_type": "code",
   "execution_count": null,
   "metadata": {
    "collapsed": true
   },
   "outputs": [],
   "source": []
  },
  {
   "cell_type": "code",
   "execution_count": null,
   "metadata": {
    "collapsed": true
   },
   "outputs": [],
   "source": []
  },
  {
   "cell_type": "markdown",
   "metadata": {},
   "source": [
    "## Background: Directed Acyclic Graphs (DAGs)"
   ]
  },
  {
   "cell_type": "markdown",
   "metadata": {},
   "source": []
  },
  {
   "cell_type": "markdown",
   "metadata": {},
   "source": [
    "## Background: Galled Networks"
   ]
  },
  {
   "cell_type": "markdown",
   "metadata": {},
   "source": [
    "<img src = \"fig1_gallstructure.png\" width = 300>"
   ]
  },
  {
   "cell_type": "markdown",
   "metadata": {
    "collapsed": true
   },
   "source": []
  },
  {
   "cell_type": "code",
   "execution_count": null,
   "metadata": {
    "collapsed": true
   },
   "outputs": [],
   "source": []
  },
  {
   "cell_type": "code",
   "execution_count": null,
   "metadata": {
    "collapsed": true
   },
   "outputs": [],
   "source": []
  },
  {
   "cell_type": "code",
   "execution_count": null,
   "metadata": {
    "collapsed": true
   },
   "outputs": [],
   "source": []
  },
  {
   "cell_type": "markdown",
   "metadata": {
    "collapsed": true
   },
   "source": [
    "## Example: Squarified TreeMaps"
   ]
  },
  {
   "cell_type": "code",
   "execution_count": 49,
   "metadata": {
    "collapsed": true
   },
   "outputs": [],
   "source": [
    "class Rect:\n",
    "    def __init__(self, x, y, w, h):\n",
    "        self.x = x\n",
    "        self.y = y\n",
    "        self.w = w\n",
    "        self.h = h\n",
    "\n",
    "    def shortestEdge(self):\n",
    "        return min(self.w, self.h)\n",
    "\n",
    "    def placeRow(self, row):\n",
    "        \"\"\"Input is a list of areas\"\"\"\n",
    "\n",
    "        A = sum(row)\n",
    "        aw = A / self.h\n",
    "        ah = A / self.w\n",
    "\n",
    "        cx = self.x\n",
    "        cy = self.y\n",
    "\n",
    "        coordinates = []\n",
    "        if (self.w >= self.h):\n",
    "            for r in row:\n",
    "                dy = r / aw\n",
    "                coordinates.append((cx, cy, cx + aw, cy + dy))\n",
    "                cy += dy\n",
    "        else:\n",
    "            for r in row:\n",
    "                dx = r / ah\n",
    "                coordinates.append((cx, cy, cx + dx, cy + ah))\n",
    "                cx += dx\n",
    "        \n",
    "        return coordinates\n",
    "\n",
    "    def cutArea(self, area):\n",
    "        \"\"\"Remove the area from this rectangle, return new rectangle\"\"\"\n",
    "        if self.w >= self.h:\n",
    "            aw = area / self.h\n",
    "            nw = self.w - aw\n",
    "            return Rect(self.x + aw, self.y, nw, self.h)\n",
    "        else:\n",
    "            ah = area / self.w\n",
    "            nh = self.h - ah\n",
    "            return Rect(self.x, self.y + ah, self.w, nh)\n",
    "\n",
    "        \n",
    "def computeSTM((w, h), areas):\n",
    "    \"\"\" Compute a squarified tree map.\n",
    "    The algorithm comes from \"Squarified Treemaps\", Mark Bruls, Kees Huizing, and Jarke J. van Wijk.\n",
    "    https://github.com/imranghory/treemap-squared/blob/master/treemap-squarify.js\n",
    "    \"\"\"\n",
    "    return squarify(areas, [], Rect(0,0,w,h), [])\n",
    "\n",
    "def squarify(children, row, rect, results):\n",
    "    if not children:\n",
    "        results += rect.placeRow(row)\n",
    "        return results\n",
    "\n",
    "    w = rect.shortestEdge()\n",
    "\n",
    "    c = children[0]\n",
    "    if improvesRatio(row, c, w):\n",
    "        squarify(children[1:], row + [c], rect, results)\n",
    "    else:\n",
    "        results += rect.placeRow(row)\n",
    "        r2 = rect.cutArea(sum(row))\n",
    "        squarify(children, [], r2, results)\n",
    "\n",
    "    return results\n",
    "\n",
    "def improvesRatio(row, nextnode, w):\n",
    "    # always improves for empty row\n",
    "    if not row:\n",
    "        return True\n",
    "\n",
    "    return worst(row, w) >= worst(row + [nextnode], w)\n",
    "    \n",
    "\n",
    "def worst(row, w):\n",
    "    \"\"\"Row is list of areas for each element in the row,\n",
    "    w is the size of the side of the row \"\"\"\n",
    "    square = lambda n: n*n\n",
    "    ss = square(sum(row))\n",
    "    ww = square(w)\n",
    "    ma = (ww * max(row)) / ss\n",
    "    mi = ss / (ww * min(row))\n",
    "\n",
    "    return max(ma, mi)"
   ]
  },
  {
   "cell_type": "code",
   "execution_count": 50,
   "metadata": {
    "collapsed": false
   },
   "outputs": [
    {
     "name": "stdout",
     "output_type": "stream",
     "text": [
      "drawing  [0, 0, 111, 201]\n",
      "drawing  [0, 201, 111, 300]\n",
      "drawing  [111, 0, 172, 108]\n",
      "drawing  [111, 108, 172, 179]\n",
      "drawing  [111, 179, 172, 230]\n",
      "drawing  [111, 230, 172, 270]\n",
      "drawing  [111, 270, 172, 300]\n",
      "drawing  [172, 0, 201, 54]\n",
      "drawing  [172, 54, 201, 99]\n",
      "drawing  [172, 99, 201, 137]\n",
      "drawing  [172, 137, 201, 170]\n",
      "drawing  [172, 170, 201, 198]\n",
      "drawing  [172, 198, 201, 223]\n",
      "drawing  [172, 223, 201, 246]\n",
      "drawing  [172, 246, 201, 266]\n",
      "drawing  [172, 266, 201, 284]\n",
      "drawing  [172, 284, 201, 300]\n",
      "drawing  [201, 0, 208, 61]\n",
      "drawing  [201, 61, 208, 117]\n",
      "drawing  [201, 117, 208, 168]\n",
      "drawing  [201, 168, 208, 215]\n",
      "drawing  [201, 215, 208, 259]\n",
      "drawing  [201, 259, 208, 300]\n"
     ]
    }
   ],
   "source": [
    "from random import randint\n",
    "from math import ceil\n",
    "import matplotlib\n",
    "matplotlib.use(\"Agg\")\n",
    "from matplotlib.pyplot import imshow\n",
    "import matplotlib.pyplot as plt\n",
    "import numpy as np\n",
    "from PIL import Image\n",
    "%matplotlib inline\n",
    "\n",
    "# initial rectangle dimensions\n",
    "r = (16,9)\n",
    "\n",
    "# list of areas to place on the rectangle\n",
    "areas = map(lambda x: (1/(float(pow(x,1.6))+1))*40, range(1,24))\n",
    "\n",
    "# scale\n",
    "s = 100\n",
    "\n",
    "def scale(lst):\n",
    "    return map(lambda x: int(ceil(x*s/3)), lst)\n",
    "\n",
    "def rndcolour():\n",
    "    return (randint(0,255), randint(0,255), randint(0,255))\n",
    "\n",
    "im = Image.new(\"RGBA\", scale(r))\n",
    "\n",
    "draw = ImageDraw.Draw(im)\n",
    "\n",
    "for box in computeSTM(r, areas):\n",
    "    print \"drawing \", scale(box)\n",
    "    draw.rectangle(scale(box), fill=rndcolour())"
   ]
  },
  {
   "cell_type": "code",
   "execution_count": 51,
   "metadata": {
    "collapsed": false
   },
   "outputs": [],
   "source": [
    "del draw"
   ]
  },
  {
   "cell_type": "code",
   "execution_count": 52,
   "metadata": {
    "collapsed": false
   },
   "outputs": [
    {
     "data": {
      "image/png": "[encoded data removed]",
      "text/plain": [
       "<matplotlib.figure.Figure at 0x108ee6cd0>"
      ]
     },
     "metadata": {},
     "output_type": "display_data"
    }
   ],
   "source": [
    "im.save(\"test.png\", \"PNG\")\n",
    "pil_im = Image.open('test.png', 'r')\n",
    "plt.figure(figsize = (16,9))\n",
    "plt.imshow(np.asarray(pil_im))\n",
    "plt.axis('off')\n",
    "plt.show()"
   ]
  },
  {
   "cell_type": "code",
   "execution_count": null,
   "metadata": {
    "collapsed": true
   },
   "outputs": [],
   "source": []
  },
  {
   "cell_type": "code",
   "execution_count": null,
   "metadata": {
    "collapsed": true
   },
   "outputs": [],
   "source": []
  },
  {
   "cell_type": "markdown",
   "metadata": {},
   "source": [
    "### References:\n",
    "* Balzer, M., and O. Deussen. \"Voronoi Treemaps.\" *IEEE Symposium on Information Visualization*, 2005. INFOVIS 2005.\n",
    "\n",
    "* Bruls, Mark, Kees Huizing, and Jarke J. Van Wijk. \"Squarified Treemaps.\" *Eurographics Data Visualization* 2000 (2000): 33-42.\n",
    "\n",
    "* Doolittle W. F.. Phylogenetic classification and the universal tree. *Science*, 284 (5423): 2124–2129, 1999.\n",
    "\n",
    "* Gusfield, D., Eddhu, S., and Langley, C. H.. Efficient reconstruction of phylogenetic networks with constrained recombination. *Computational Systems Bioinformatics Conference* (Proc. CSB 2003), pages 363–374, 2003.\n",
    "\n",
    "* Huson, Daniel H., and David Bryant. \"Application of phylogenetic networks in evolutionary studies.\" Molecular biology and evolution 23.2 (2006): 254-267.\n",
    "\n",
    "* Huson, Daniel H., and Celine Scornavacca. \"A survey of combinatorial methods for phylogenetic networks.\" *Genome biology and evolution* 3 (2011): 23-35.\n",
    "\n",
    "* Huson, D. H., and Klöpper T. H.. Beyond galled trees - decomposition and computation of galled networks. In T. Speed and H. Huang, editors, *11th Annual International Conference on Research in Computational Molecular Biology* (Proc.  RECOMB 2007), pages 211–225, Springer-Verlag, 2007.\n",
    "\n",
    "* Huson, D. H., Rupp, R., Berry, V., Gambette, P., and Paul, C.. Computing galled networks from real data. *Bioinformatics*, 25(12):i85–i93, 2009.\n",
    "\n",
    "* Johnson B., and Shneiderman, B.. Tree-Maps: A Space-filling Approach to the Visualization of Hierarchical Information Structures. *2nd Conference on Visualization* (Proc. VIS 1991), pages 284–291, IEEE Computer Society Press, 1991.\n",
    "\n",
    "* Lima, M. (2014). The book of trees: visualizing branches of knowledge. S. E. Stemen (Ed.). *Princeton Architectural Press*.\n",
    "\n",
    "* Maddison, Wayne P. \"Gene trees in species trees.\" *Systematic biology* 46.3 (1997): 523-536.\n",
    "\n",
    "* Makarenkov, Vladimir. \"T-REX: reconstructing and visualizing phylogenetic trees and reticulation networks.\" *Bioinformatics* 17.7 (2001): 664-668.\n",
    "\n",
    "* Tsiaras, V., Triantafilou, S., and Tollis, I. G.. Dagmaps: Space filling visualization of directed acyclic graphs. *Graph Algorithms and Applications*, 13(3):319–347, 2009.\n",
    "\n",
    "* Wang, L., Zhang K., and Zhang, L.. Perfect phylogenetic networks with recombination.  *Journal of Computational Biology*, 8(1):69–78, 2001.\n",
    "\n",
    "* Wickett, Norman J., et al. \"Phylotranscriptomic analysis of the origin and early diversification of land plants.\" *Proceedings of the National Academy of Sciences* 111.45 (2014): E4859-E4868."
   ]
  },
  {
   "cell_type": "code",
   "execution_count": null,
   "metadata": {
    "collapsed": true
   },
   "outputs": [],
   "source": []
  }
 ],
 "metadata": {
  "kernelspec": {
   "display_name": "Python 2",
   "language": "python",
   "name": "python2"
  },
  "language_info": {
   "codemirror_mode": {
    "name": "ipython",
    "version": 2
   },
   "file_extension": ".py",
   "mimetype": "text/x-python",
   "name": "python",
   "nbconvert_exporter": "python",
   "pygments_lexer": "ipython2",
   "version": "2.7.11"
  }
 },
 "nbformat": 4,
 "nbformat_minor": 0
}
