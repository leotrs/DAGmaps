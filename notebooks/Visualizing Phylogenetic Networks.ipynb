{
 "cells": [
  {
   "cell_type": "markdown",
   "metadata": {},
   "source": [
    "<img src = \"DAGMap_header.png\" width = 1000>"
   ]
  },
  {
   "cell_type": "markdown",
   "metadata": {},
   "source": [
    "# Visualizing Phylogenetic Networks\n",
    "An implementation of algorithm described in in _Tollis, I. G., & Kakoulis, K. G. (2016)_\n",
    "\n",
    "Authors: *Syed Haque, Brennan Klein & Leonardo Torres*"
   ]
  },
  {
   "cell_type": "markdown",
   "metadata": {},
   "source": [
    "## Background: Trees\n",
    "Tree metaphors have been prevalent throughout human history. Visually, they offer an intuitive means of presenting hierarchical structures in networks of information, relationships, or histories. Under this metaphor, each _leaf_ of a tree can represent people, ideas, concepts, entities, all connected by a _branch_ to another leaf.\n",
    "\n",
    "It was Charles Darwin who began to push us past the tree *metaphor* of life and into an actual, theoretical realization of a tree-like structure as a fundamental property of organic matter. In Darwin's conception of the \"Tree of Life\", each leaf is a species, and there is a branch between two leaves if one of the leaves is an immediate genetic predecesor of the other. A this point, this Tree of Life metaphor was not only a vital construct for communicating his ideas about the evolution of species via natural selection, but it eventually served as a way to *generate insights* about the evolutionary process. This was useful for decades, but again, we found ourselves falling short of explanations using our current tools to visualize these networks of speciaiton. \n",
    "<img src=\"https://s-media-cache-ak0.pinimg.com/736x/f0/75/80/f07580944b8d04995662d301c4455837.jpg\" width=350>\n",
    "<center>Figure 1: Illustration from the 16th century [*anonymous*].</center> \n",
    "<center>The fall of man represented using branches of a tree.</center>"
   ]
  },
  {
   "cell_type": "markdown",
   "metadata": {},
   "source": [
    "For example, Doolittle (1999) describes the struggle that evolutionary biologists faced due to an *overreliance* on the tree metaphors listed above. \n",
    "\n",
    "Tree diagrams traditionally have \"parent\" leafs, which separate into \"children\" leafs, which then become the parents of the next generation, and so on. In evolutionary theory, this had traditionally made sense with a strictly Darwinian understanding of evolution, but with more knowledge of horizontal transfer of genes across kingdoms and phylums, the traditional visual metaphor was not only insufficient, it was hindering progress for pushing evolutionary theory further.\n",
    "\n",
    "<img src=\"Tree-of-life-Origin_of_Species-1859.png\" width=400>\n",
    "<center>Figure 2: Recreation of Darwin's Tree of Life [*Hattom Garden*].</center> \n",
    "<center>The image above depicts the problem that biologists faced. Evolutionary phylogentic</center>\n",
    "<center> trees sometimes have interacting branches, whereas the above network lacks them.</center>\n",
    "\n",
    "\n",
    "Phylogeneticists, Doolittle claims, could not find the Tree of Life as they had imagined it because they lacked an updated, compelling visual metaphor with which to describe the evolutionary processes we now know exist. Horizontal gene transfer, hybridization, and genetic recombination are all processes on networks, so the field needed a better *network* visualization in order to communicate their insight"
   ]
  },
  {
   "cell_type": "markdown",
   "metadata": {},
   "source": [
    "## Background: Phylogenetic Networks\n",
    "<img src = \"https://pbs.twimg.com/profile_images/425414883258023936/lHCSqrAp.jpeg\" width = 500>\n",
    "<center>Figure 3: Sensationalist Headlinism [*New Scientist, 2009*].</center> \n",
    "\n",
    "\n",
    "Phylogenetic Networks are usually determined by inferring a network structure from co-occurences of genes in a given species or by simulations of evolutionary scenarios using computer models of speciation. The latter is quite useful for testing hypotheses about the presence or absence of horizontal gene transfer, recombination and mixability of genes, as well as the effect of varying fitnesses of different alleles in a population leading to a new species.\n",
    "\n"
   ]
  },
  {
   "cell_type": "markdown",
   "metadata": {},
   "source": [
    "<img src=\"Reticulation Network.png\" width = 500>\n",
    "<center>Figure 4: A reticulated tree diagram [*Doolittle, 2009*]</center> \n",
    "<center>Reticulated Trees are now thought to have more explanatory power for describing</center> \n",
    "<center>nature's actual mechanisms for speciation.</center>\n"
   ]
  },
  {
   "cell_type": "markdown",
   "metadata": {},
   "source": [
    "#### Problem: \n",
    "The above example clearly shows how quickly tree networks can devolve into visualizations that convey little useful information due to the high branch-overlap between the leafs of the tree. Visually, there must be a better way to approach these objects.\n",
    "\n",
    "Not only that, what is the best way to evaluate/compare different visualizations of phylogenetic networks? This problem is quite difficult, and finding the explicit solution is NP-complete. This puts us in the realm of needing to find tractable approximations that can optimally draw these networks.\n",
    "\n",
    "Lastly, there is a growing body of literature suggesting that our current node-link visualizaiton techniques are not the best for conveying meaningful structures and interactions among nodes in a network, which adds a final motivation to this problem, are there more convenient visualization techniques that take advantage of visual techniques such as Squarified TreeMaps, DAGMaps, and Voronoi Diagrams?\n",
    "\n",
    "A solution to these problems could offer some understanding on the conflicts present in this field."
   ]
  },
  {
   "cell_type": "markdown",
   "metadata": {
    "collapsed": true
   },
   "source": [
    "<img src=\"arc_of_life.jpg\" width = 1200>\n",
    "<center>Figure 5: An example of the complexity of the current tree of life</center> \n"
   ]
  },
  {
   "cell_type": "markdown",
   "metadata": {},
   "source": [
    "## Background: Directed Acyclic Graphs (DAGs) and Galled Networks"
   ]
  },
  {
   "cell_type": "markdown",
   "metadata": {},
   "source": [
    "A Directed Acyclic Graph is a graphical object that represents a directed relationship between connected nodes (usually through time or statistical dependency). This has applications in describing genetic histories, state transition, knowledge transfer, and even more abstract causal structures used commonly in modern machine/statistical learning fields"
   ]
  },
  {
   "cell_type": "markdown",
   "metadata": {},
   "source": [
    "DAGs can be tree-like, or they may have _galls_. These are substructures within DAG where the parents (or grandparents, great-grandparents, etc.) of a node meet up at a common node. That is, while a node may have two incoming links, they stem from a single earlier in the causal hierarchy. Below is an example of a gall within a DAG, consisting of the hull created between the nodes _g0_ and _gk_ and the links connecting them."
   ]
  },
  {
   "cell_type": "markdown",
   "metadata": {},
   "source": [
    "<img src = \"fig1_gallstructure.png\" width = 300>\n",
    "<center>Figure 6: A structural example of a Directed Acylic Graph with a gall [_Tollis & Kakoulis, 2016_]</center> "
   ]
  },
  {
   "cell_type": "markdown",
   "metadata": {
    "collapsed": true
   },
   "source": [
    "In the case of visualizing these DAGs, there is a visually intuitive way to appraoch this problem. Below is an example of a galled network, its corresponding galled tree, and a possible visualization for representing the network as a DAGmap. "
   ]
  },
  {
   "cell_type": "markdown",
   "metadata": {
    "collapsed": true
   },
   "source": [
    "<img src = \"Galled_network1.png\" width = 700>\n",
    "<center>Figure 7: A galled network [_Tollis & Kakoulis, 2016_]</center> \n"
   ]
  },
  {
   "cell_type": "markdown",
   "metadata": {
    "collapsed": true
   },
   "source": [
    "The above network then transforms into a galled tree, which simply exapands the number of nodes in each level for every node with more than one outgoing edge to another node (colored as non-white nodes above). "
   ]
  },
  {
   "cell_type": "markdown",
   "metadata": {},
   "source": [
    "<img src = \"Galled_tree1.png\" width = 900>\n",
    "<center>Figure 8: A galled tree [_Tollis & Kakoulis, 2016_]</center> \n"
   ]
  },
  {
   "cell_type": "markdown",
   "metadata": {},
   "source": [
    "<img src = \"DagMap1.png\" width = 500>\n",
    "<center>Figure 9: The galled tree's associated DAGmap [_Tollis & Kakoulis, 2016_]</center> \n"
   ]
  },
  {
   "cell_type": "markdown",
   "metadata": {
    "collapsed": true
   },
   "source": [
    "## Another Option for Visualization: Project Assignment #4 \n",
    "\n",
    "\n",
    "\n",
    "\n"
   ]
  },
  {
   "cell_type": "markdown",
   "metadata": {},
   "source": [
    "* As our particular project is, in a sense, already visualzed in the style above, we have tried to imagine a scenario where it would be more optimal to visualize the entire DAGmap with a mixture of tools from other types of space-partitioning.\n",
    "* Below is an instantiation of a network (very similar to the one above) that incorporates a Voronoi partition into *as the gall* of the network.\n",
    "\n",
    "\n",
    "The justification of this approach is twofold:\n",
    "1. Voronoi partitioning, when in a context of a Squarified Treemap / DAGmap, would direct attention towards the \"interesting\" part of the network, and that this would happen immediately.\n",
    "2. There could exist interest horizontal transfers of information that, at least in genetic networks, should not be collapsed into a hierarchical structure. That within the Kingdom of, say, \"Mammals\" in a phylogenetic tree, there are several major Families whose relationships are more adjacent than antecedent. \n",
    "\n",
    "\n",
    "Caveats: While this might be intuitive or visually appealing, it is not clear that there exists actual data that mixes a sparse causal structure with something dense enough to warrant Voronoi partitioning. Similarly, a case could be made to just continue the galled tree until the density of the Voronoi region would be eliminated into the gall of the DAGmap."
   ]
  },
  {
   "cell_type": "markdown",
   "metadata": {},
   "source": [
    "Take, for example, the following galled tree:\n",
    "<img src = \"Galled_tree2.png\" width = 1000>\n",
    "<center>Figure 10: A variation on the galled tree above.</center> \n",
    "<center>Note: we may find ourselves in an instance where the complexity</center> \n",
    "<center>of the topological structure should be emphasized systematically.</center> "
   ]
  },
  {
   "cell_type": "markdown",
   "metadata": {},
   "source": [
    "This is very similar to the galled tree above, but we can imagine a scenario where nodes {9, 20, 19, 10, 18, 11} might be of special importance, and would perhaps inspire a DAGVorMap, shown below."
   ]
  },
  {
   "cell_type": "markdown",
   "metadata": {},
   "source": [
    "<img src = \"DAGMap2.png\" width = 500>\n",
    "<center>Figure 11: A DAGVorMap</center> \n",
    "<center>Notice that one of the galls is of visual importance, and a Voronoi Diagram is induced.</center> "
   ]
  },
  {
   "cell_type": "code",
   "execution_count": null,
   "metadata": {
    "collapsed": true
   },
   "outputs": [],
   "source": []
  },
  {
   "cell_type": "code",
   "execution_count": null,
   "metadata": {
    "collapsed": true
   },
   "outputs": [],
   "source": []
  },
  {
   "cell_type": "code",
   "execution_count": null,
   "metadata": {
    "collapsed": true
   },
   "outputs": [],
   "source": []
  },
  {
   "cell_type": "code",
   "execution_count": null,
   "metadata": {
    "collapsed": true
   },
   "outputs": [],
   "source": []
  },
  {
   "cell_type": "code",
   "execution_count": null,
   "metadata": {
    "collapsed": true
   },
   "outputs": [],
   "source": []
  },
  {
   "cell_type": "code",
   "execution_count": null,
   "metadata": {
    "collapsed": true
   },
   "outputs": [],
   "source": []
  },
  {
   "cell_type": "code",
   "execution_count": null,
   "metadata": {
    "collapsed": true
   },
   "outputs": [],
   "source": []
  },
  {
   "cell_type": "markdown",
   "metadata": {
    "collapsed": true
   },
   "source": [
    "# The Following is In-Progress:\n",
    "## Example: Squarified TreeMaps"
   ]
  },
  {
   "cell_type": "code",
   "execution_count": 1,
   "metadata": {
    "collapsed": true
   },
   "outputs": [],
   "source": [
    "class Rect:\n",
    "    def __init__(self, x, y, w, h):\n",
    "        self.x = x\n",
    "        self.y = y\n",
    "        self.w = w\n",
    "        self.h = h\n",
    "\n",
    "    def shortestEdge(self):\n",
    "        return min(self.w, self.h)\n",
    "\n",
    "    def placeRow(self, row):\n",
    "        \"\"\"Input is a list of areas\"\"\"\n",
    "\n",
    "        A = sum(row)\n",
    "        aw = A / self.h\n",
    "        ah = A / self.w\n",
    "\n",
    "        cx = self.x\n",
    "        cy = self.y\n",
    "\n",
    "        coordinates = []\n",
    "        if (self.w >= self.h):\n",
    "            for r in row:\n",
    "                dy = r / aw\n",
    "                coordinates.append((cx, cy, cx + aw, cy + dy))\n",
    "                cy += dy\n",
    "        else:\n",
    "            for r in row:\n",
    "                dx = r / ah\n",
    "                coordinates.append((cx, cy, cx + dx, cy + ah))\n",
    "                cx += dx\n",
    "        \n",
    "        return coordinates\n",
    "\n",
    "    def cutArea(self, area):\n",
    "        \"\"\"Remove the area from this rectangle, return new rectangle\"\"\"\n",
    "        if self.w >= self.h:\n",
    "            aw = area / self.h\n",
    "            nw = self.w - aw\n",
    "            return Rect(self.x + aw, self.y, nw, self.h)\n",
    "        else:\n",
    "            ah = area / self.w\n",
    "            nh = self.h - ah\n",
    "            return Rect(self.x, self.y + ah, self.w, nh)\n",
    "\n",
    "        \n",
    "def computeSTM((w, h), areas):\n",
    "    \"\"\" Compute a squarified tree map.\n",
    "    The algorithm comes from \"Squarified Treemaps\", Mark Bruls, Kees Huizing, and Jarke J. van Wijk.\n",
    "    https://github.com/imranghory/treemap-squared/blob/master/treemap-squarify.js\n",
    "    \"\"\"\n",
    "    return squarify(areas, [], Rect(0,0,w,h), [])\n",
    "\n",
    "def squarify(children, row, rect, results):\n",
    "    if not children:\n",
    "        results += rect.placeRow(row)\n",
    "        return results\n",
    "\n",
    "    w = rect.shortestEdge()\n",
    "\n",
    "    c = children[0]\n",
    "    if improvesRatio(row, c, w):\n",
    "        squarify(children[1:], row + [c], rect, results)\n",
    "    else:\n",
    "        results += rect.placeRow(row)\n",
    "        r2 = rect.cutArea(sum(row))\n",
    "        squarify(children, [], r2, results)\n",
    "\n",
    "    return results\n",
    "\n",
    "def improvesRatio(row, nextnode, w):\n",
    "    # always improves for empty row\n",
    "    if not row:\n",
    "        return True\n",
    "\n",
    "    return worst(row, w) >= worst(row + [nextnode], w)\n",
    "    \n",
    "\n",
    "def worst(row, w):\n",
    "    \"\"\"Row is list of areas for each element in the row,\n",
    "    w is the size of the side of the row \"\"\"\n",
    "    square = lambda n: n*n\n",
    "    ss = square(sum(row))\n",
    "    ww = square(w)\n",
    "    ma = (ww * max(row)) / ss\n",
    "    mi = ss / (ww * min(row))\n",
    "\n",
    "    return max(ma, mi)"
   ]
  },
  {
   "cell_type": "code",
   "execution_count": 5,
   "metadata": {
    "collapsed": false
   },
   "outputs": [
    {
     "name": "stdout",
     "output_type": "stream",
     "text": [
      "drawing  [0, 0, 111, 201]\n",
      "drawing  [0, 201, 111, 300]\n",
      "drawing  [111, 0, 172, 108]\n",
      "drawing  [111, 108, 172, 179]\n",
      "drawing  [111, 179, 172, 230]\n",
      "drawing  [111, 230, 172, 270]\n",
      "drawing  [111, 270, 172, 300]\n",
      "drawing  [172, 0, 201, 54]\n",
      "drawing  [172, 54, 201, 99]\n",
      "drawing  [172, 99, 201, 137]\n",
      "drawing  [172, 137, 201, 170]\n",
      "drawing  [172, 170, 201, 198]\n",
      "drawing  [172, 198, 201, 223]\n",
      "drawing  [172, 223, 201, 246]\n",
      "drawing  [172, 246, 201, 266]\n",
      "drawing  [172, 266, 201, 284]\n",
      "drawing  [172, 284, 201, 300]\n",
      "drawing  [201, 0, 208, 61]\n",
      "drawing  [201, 61, 208, 117]\n",
      "drawing  [201, 117, 208, 168]\n",
      "drawing  [201, 168, 208, 215]\n",
      "drawing  [201, 215, 208, 259]\n",
      "drawing  [201, 259, 208, 300]\n"
     ]
    }
   ],
   "source": [
    "from random import randint\n",
    "from math import ceil\n",
    "import matplotlib\n",
    "matplotlib.use(\"Agg\")\n",
    "from matplotlib.pyplot import imshow\n",
    "import matplotlib.pyplot as plt\n",
    "import numpy as np\n",
    "from PIL import Image, ImageDraw\n",
    "%matplotlib inline\n",
    "\n",
    "# initial rectangle dimensions\n",
    "r = (16,9)\n",
    "\n",
    "# list of areas to place on the rectangle\n",
    "areas = map(lambda x: (1/(float(pow(x,1.6))+1))*40, range(1,24))\n",
    "\n",
    "# scale\n",
    "s = 100\n",
    "\n",
    "def scale(lst):\n",
    "    return map(lambda x: int(ceil(x*s/3)), lst)\n",
    "\n",
    "def rndcolour():\n",
    "    return (randint(0,255), randint(0,255), randint(0,255))\n",
    "\n",
    "im = Image.new(\"RGBA\", scale(r))\n",
    "\n",
    "draw = ImageDraw.Draw(im)\n",
    "\n",
    "for box in computeSTM(r, areas):\n",
    "    print \"drawing \", scale(box)\n",
    "    draw.rectangle(scale(box), fill=rndcolour())"
   ]
  },
  {
   "cell_type": "code",
   "execution_count": 6,
   "metadata": {
    "collapsed": false
   },
   "outputs": [
    {
     "data": {
      "image/png": "[encoded data removed]",
      "text/plain": [
       "<matplotlib.figure.Figure at 0x1064e1f90>"
      ]
     },
     "metadata": {},
     "output_type": "display_data"
    }
   ],
   "source": [
    "del draw\n",
    "im.save(\"test.png\", \"PNG\")\n",
    "pil_im = Image.open('test.png', 'r')\n",
    "plt.figure(figsize = (16,9))\n",
    "plt.imshow(np.asarray(pil_im))\n",
    "plt.axis('off')\n",
    "plt.show()"
   ]
  },
  {
   "cell_type": "markdown",
   "metadata": {},
   "source": [
    "### References:\n",
    "* Balzer, M., and O. Deussen. \"Voronoi Treemaps.\" *IEEE Symposium on Information Visualization*, 2005. INFOVIS 2005.\n",
    "\n",
    "* Bruls, Mark, Kees Huizing, and Jarke J. Van Wijk. \"Squarified Treemaps.\" *Eurographics Data Visualization* 2000 (2000): 33-42.\n",
    "\n",
    "* Doolittle W. F.. Phylogenetic classification and the universal tree. *Science*, 284 (5423): 2124–2129, 1999.\n",
    "\n",
    "* Gusfield, D., Eddhu, S., and Langley, C. H.. Efficient reconstruction of phylogenetic networks with constrained recombination. *Computational Systems Bioinformatics Conference* (Proc. CSB 2003), pages 363–374, 2003.\n",
    "\n",
    "* Huson, Daniel H., and David Bryant. \"Application of phylogenetic networks in evolutionary studies.\" Molecular biology and evolution 23.2 (2006): 254-267.\n",
    "\n",
    "* Huson, Daniel H., and Celine Scornavacca. \"A survey of combinatorial methods for phylogenetic networks.\" *Genome biology and evolution* 3 (2011): 23-35.\n",
    "\n",
    "* Huson, D. H., and Klöpper T. H.. Beyond galled trees - decomposition and computation of galled networks. In T. Speed and H. Huang, editors, *11th Annual International Conference on Research in Computational Molecular Biology* (Proc.  RECOMB 2007), pages 211–225, Springer-Verlag, 2007.\n",
    "\n",
    "* Huson, D. H., Rupp, R., Berry, V., Gambette, P., and Paul, C.. Computing galled networks from real data. *Bioinformatics*, 25(12):i85–i93, 2009.\n",
    "\n",
    "* Johnson B., and Shneiderman, B.. Tree-Maps: A Space-filling Approach to the Visualization of Hierarchical Information Structures. *2nd Conference on Visualization* (Proc. VIS 1991), pages 284–291, IEEE Computer Society Press, 1991.\n",
    "\n",
    "* Lima, M. (2014). The book of trees: visualizing branches of knowledge. S. E. Stemen (Ed.). *Princeton Architectural Press*.\n",
    "\n",
    "* Maddison, Wayne P. \"Gene trees in species trees.\" *Systematic biology* 46.3 (1997): 523-536.\n",
    "\n",
    "* Makarenkov, Vladimir. \"T-REX: reconstructing and visualizing phylogenetic trees and reticulation networks.\" *Bioinformatics* 17.7 (2001): 664-668.\n",
    "\n",
    "* Tsiaras, V., Triantafilou, S., and Tollis, I. G.. Dagmaps: Space filling visualization of directed acyclic graphs. *Graph Algorithms and Applications*, 13(3):319–347, 2009.\n",
    "\n",
    "* Wang, L., Zhang K., and Zhang, L.. Perfect phylogenetic networks with recombination.  *Journal of Computational Biology*, 8(1):69–78, 2001.\n",
    "\n",
    "* Wickett, Norman J., et al. \"Phylotranscriptomic analysis of the origin and early diversification of land plants.\" *Proceedings of the National Academy of Sciences* 111.45 (2014): E4859-E4868."
   ]
  },
  {
   "cell_type": "code",
   "execution_count": null,
   "metadata": {
    "collapsed": true
   },
   "outputs": [],
   "source": []
  }
 ],
 "metadata": {
  "kernelspec": {
   "display_name": "Python 2",
   "language": "python",
   "name": "python2"
  },
  "language_info": {
   "codemirror_mode": {
    "name": "ipython",
    "version": 2
   },
   "file_extension": ".py",
   "mimetype": "text/x-python",
   "name": "python",
   "nbconvert_exporter": "python",
   "pygments_lexer": "ipython2",
   "version": "2.7.11"
  }
 },
 "nbformat": 4,
 "nbformat_minor": 0
}
